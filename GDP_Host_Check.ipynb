{
 "cells": [
  {
   "cell_type": "code",
   "execution_count": 2,
   "metadata": {},
   "outputs": [],
   "source": [
    "import seaborn as sns\n",
    "import matplotlib.pyplot as plt\n",
    "import numpy as np\n",
    "import pandas as pd\n",
    "import koreanize_matplotlib\n",
    "\n",
    "\n"
   ]
  },
  {
   "cell_type": "code",
   "execution_count": 3,
   "metadata": {},
   "outputs": [],
   "source": [
    "data = './olympics_unique.csv'\n",
    "\n",
    "olympics_df = pd.read_csv(data)"
   ]
  },
  {
   "cell_type": "code",
   "execution_count": 4,
   "metadata": {},
   "outputs": [],
   "source": [
    "olympics_df.drop(columns='Unnamed: 0',inplace=True)"
   ]
  },
  {
   "cell_type": "code",
   "execution_count": 5,
   "metadata": {},
   "outputs": [
    {
     "data": {
      "text/plain": [
       "0               NaN\n",
       "1               NaN\n",
       "2               NaN\n",
       "3               NaN\n",
       "4               NaN\n",
       "           ...     \n",
       "904    9.103096e+10\n",
       "905             NaN\n",
       "906    6.690380e+10\n",
       "907    1.758471e+09\n",
       "908             NaN\n",
       "Name: GDP, Length: 909, dtype: float64"
      ]
     },
     "execution_count": 5,
     "metadata": {},
     "output_type": "execute_result"
    }
   ],
   "source": [
    "olympics_df['GDP']"
   ]
  },
  {
   "cell_type": "code",
   "execution_count": 6,
   "metadata": {},
   "outputs": [],
   "source": [
    "# 결측치를 최소값으로 채움\n",
    "#olympics_df['GDP'] = olympics_df['GDP'].fillna(olympics_df['GDP'].median())\n",
    "\n"
   ]
  },
  {
   "cell_type": "code",
   "execution_count": 7,
   "metadata": {},
   "outputs": [
    {
     "data": {
      "text/html": [
       "<div>\n",
       "<style scoped>\n",
       "    .dataframe tbody tr th:only-of-type {\n",
       "        vertical-align: middle;\n",
       "    }\n",
       "\n",
       "    .dataframe tbody tr th {\n",
       "        vertical-align: top;\n",
       "    }\n",
       "\n",
       "    .dataframe thead th {\n",
       "        text-align: right;\n",
       "    }\n",
       "</style>\n",
       "<table border=\"1\" class=\"dataframe\">\n",
       "  <thead>\n",
       "    <tr style=\"text-align: right;\">\n",
       "      <th></th>\n",
       "      <th>Year</th>\n",
       "      <th>Team</th>\n",
       "      <th>Total_Athletes</th>\n",
       "      <th>total_medal</th>\n",
       "      <th>Country_host</th>\n",
       "      <th>GDP</th>\n",
       "      <th>NOC</th>\n",
       "      <th>Population</th>\n",
       "    </tr>\n",
       "  </thead>\n",
       "  <tbody>\n",
       "    <tr>\n",
       "      <th>0</th>\n",
       "      <td>1960</td>\n",
       "      <td>Argentina</td>\n",
       "      <td>4</td>\n",
       "      <td>4</td>\n",
       "      <td>Italy</td>\n",
       "      <td>NaN</td>\n",
       "      <td>ARG</td>\n",
       "      <td>20619075.0</td>\n",
       "    </tr>\n",
       "    <tr>\n",
       "      <th>1</th>\n",
       "      <td>1960</td>\n",
       "      <td>Australia</td>\n",
       "      <td>33</td>\n",
       "      <td>46</td>\n",
       "      <td>Italy</td>\n",
       "      <td>NaN</td>\n",
       "      <td>AUS</td>\n",
       "      <td>10276477.0</td>\n",
       "    </tr>\n",
       "    <tr>\n",
       "      <th>2</th>\n",
       "      <td>1960</td>\n",
       "      <td>Austria</td>\n",
       "      <td>3</td>\n",
       "      <td>3</td>\n",
       "      <td>Italy</td>\n",
       "      <td>NaN</td>\n",
       "      <td>AUT</td>\n",
       "      <td>7047539.0</td>\n",
       "    </tr>\n",
       "    <tr>\n",
       "      <th>3</th>\n",
       "      <td>1960</td>\n",
       "      <td>Belgium</td>\n",
       "      <td>4</td>\n",
       "      <td>4</td>\n",
       "      <td>Italy</td>\n",
       "      <td>NaN</td>\n",
       "      <td>BEL</td>\n",
       "      <td>9153489.0</td>\n",
       "    </tr>\n",
       "    <tr>\n",
       "      <th>4</th>\n",
       "      <td>1960</td>\n",
       "      <td>Brazil</td>\n",
       "      <td>13</td>\n",
       "      <td>13</td>\n",
       "      <td>Italy</td>\n",
       "      <td>NaN</td>\n",
       "      <td>BRA</td>\n",
       "      <td>72207554.0</td>\n",
       "    </tr>\n",
       "    <tr>\n",
       "      <th>...</th>\n",
       "      <td>...</td>\n",
       "      <td>...</td>\n",
       "      <td>...</td>\n",
       "      <td>...</td>\n",
       "      <td>...</td>\n",
       "      <td>...</td>\n",
       "      <td>...</td>\n",
       "      <td>...</td>\n",
       "    </tr>\n",
       "    <tr>\n",
       "      <th>904</th>\n",
       "      <td>2016</td>\n",
       "      <td>Ukraine</td>\n",
       "      <td>13</td>\n",
       "      <td>15</td>\n",
       "      <td>Brazil</td>\n",
       "      <td>9.103096e+10</td>\n",
       "      <td>UKR</td>\n",
       "      <td>45004645.0</td>\n",
       "    </tr>\n",
       "    <tr>\n",
       "      <th>905</th>\n",
       "      <td>2016</td>\n",
       "      <td>United Arab Emirates</td>\n",
       "      <td>1</td>\n",
       "      <td>1</td>\n",
       "      <td>Brazil</td>\n",
       "      <td>NaN</td>\n",
       "      <td>ARE</td>\n",
       "      <td>9269612.0</td>\n",
       "    </tr>\n",
       "    <tr>\n",
       "      <th>906</th>\n",
       "      <td>2016</td>\n",
       "      <td>Uzbekistan</td>\n",
       "      <td>13</td>\n",
       "      <td>13</td>\n",
       "      <td>Brazil</td>\n",
       "      <td>6.690380e+10</td>\n",
       "      <td>UZB</td>\n",
       "      <td>31848200.0</td>\n",
       "    </tr>\n",
       "    <tr>\n",
       "      <th>907</th>\n",
       "      <td>2016</td>\n",
       "      <td>Venezuela</td>\n",
       "      <td>3</td>\n",
       "      <td>3</td>\n",
       "      <td>Brazil</td>\n",
       "      <td>1.758471e+09</td>\n",
       "      <td>VEN</td>\n",
       "      <td>31568179.0</td>\n",
       "    </tr>\n",
       "    <tr>\n",
       "      <th>908</th>\n",
       "      <td>2016</td>\n",
       "      <td>Vietnam</td>\n",
       "      <td>1</td>\n",
       "      <td>2</td>\n",
       "      <td>Brazil</td>\n",
       "      <td>NaN</td>\n",
       "      <td>VNM</td>\n",
       "      <td>92701100.0</td>\n",
       "    </tr>\n",
       "  </tbody>\n",
       "</table>\n",
       "<p>909 rows × 8 columns</p>\n",
       "</div>"
      ],
      "text/plain": [
       "     Year                  Team  Total_Athletes  total_medal Country_host  \\\n",
       "0    1960             Argentina               4            4        Italy   \n",
       "1    1960             Australia              33           46        Italy   \n",
       "2    1960               Austria               3            3        Italy   \n",
       "3    1960               Belgium               4            4        Italy   \n",
       "4    1960                Brazil              13           13        Italy   \n",
       "..    ...                   ...             ...          ...          ...   \n",
       "904  2016               Ukraine              13           15       Brazil   \n",
       "905  2016  United Arab Emirates               1            1       Brazil   \n",
       "906  2016            Uzbekistan              13           13       Brazil   \n",
       "907  2016             Venezuela               3            3       Brazil   \n",
       "908  2016               Vietnam               1            2       Brazil   \n",
       "\n",
       "              GDP  NOC  Population  \n",
       "0             NaN  ARG  20619075.0  \n",
       "1             NaN  AUS  10276477.0  \n",
       "2             NaN  AUT   7047539.0  \n",
       "3             NaN  BEL   9153489.0  \n",
       "4             NaN  BRA  72207554.0  \n",
       "..            ...  ...         ...  \n",
       "904  9.103096e+10  UKR  45004645.0  \n",
       "905           NaN  ARE   9269612.0  \n",
       "906  6.690380e+10  UZB  31848200.0  \n",
       "907  1.758471e+09  VEN  31568179.0  \n",
       "908           NaN  VNM  92701100.0  \n",
       "\n",
       "[909 rows x 8 columns]"
      ]
     },
     "execution_count": 7,
     "metadata": {},
     "output_type": "execute_result"
    }
   ],
   "source": [
    "olympics_df"
   ]
  },
  {
   "cell_type": "code",
   "execution_count": 8,
   "metadata": {},
   "outputs": [
    {
     "data": {
      "image/png": "[encoded data removed]",
      "text/plain": [
       "<Figure size 640x480 with 1 Axes>"
      ]
     },
     "metadata": {},
     "output_type": "display_data"
    }
   ],
   "source": [
    "sns.histplot(olympics_df['GDP'], kde=True)\n",
    "plt.show()"
   ]
  },
  {
   "cell_type": "code",
   "execution_count": 9,
   "metadata": {},
   "outputs": [],
   "source": [
    "# 그래프 값이 너무 튀어서 log 변환\n",
    "olympics_df['GDP_log'] = np.log10(olympics_df['GDP']+1)"
   ]
  },
  {
   "cell_type": "code",
   "execution_count": 10,
   "metadata": {},
   "outputs": [
    {
     "data": {
      "image/png": "[encoded data removed]",
      "text/plain": [
       "<Figure size 640x480 with 1 Axes>"
      ]
     },
     "metadata": {},
     "output_type": "display_data"
    }
   ],
   "source": [
    "sns.histplot(olympics_df['GDP_log'], kde=True)\n",
    "plt.show()"
   ]
  },
  {
   "cell_type": "code",
   "execution_count": 1,
   "metadata": {},
   "outputs": [],
   "source": [
    "# QQ plot\n",
    "import scipy.stats as stats\n",
    "\n"
   ]
  },
  {
   "cell_type": "code",
   "execution_count": 11,
   "metadata": {},
   "outputs": [
    {
     "data": {
      "image/png": "[encoded data removed]",
      "text/plain": [
       "<Figure size 640x480 with 1 Axes>"
      ]
     },
     "metadata": {},
     "output_type": "display_data"
    }
   ],
   "source": [
    "# QQ \n",
    "stats.probplot(olympics_df['GDP_log'], dist='norm', plot=plt )\n",
    "\n",
    "plt.title('GDP_Q-Q')\n",
    "plt.show()\n",
    "\n",
    "\n"
   ]
  },
  {
   "cell_type": "code",
   "execution_count": 12,
   "metadata": {},
   "outputs": [],
   "source": [
    "olympics_df['Host'] = (olympics_df['Team'] == olympics_df['Country_host']).astype(int)"
   ]
  },
  {
   "cell_type": "code",
   "execution_count": 13,
   "metadata": {},
   "outputs": [
    {
     "data": {
      "text/html": [
       "<div>\n",
       "<style scoped>\n",
       "    .dataframe tbody tr th:only-of-type {\n",
       "        vertical-align: middle;\n",
       "    }\n",
       "\n",
       "    .dataframe tbody tr th {\n",
       "        vertical-align: top;\n",
       "    }\n",
       "\n",
       "    .dataframe thead th {\n",
       "        text-align: right;\n",
       "    }\n",
       "</style>\n",
       "<table border=\"1\" class=\"dataframe\">\n",
       "  <thead>\n",
       "    <tr style=\"text-align: right;\">\n",
       "      <th></th>\n",
       "      <th>Year</th>\n",
       "      <th>Team</th>\n",
       "      <th>Total_Athletes</th>\n",
       "      <th>total_medal</th>\n",
       "      <th>Country_host</th>\n",
       "      <th>GDP</th>\n",
       "      <th>NOC</th>\n",
       "      <th>Population</th>\n",
       "      <th>GDP_log</th>\n",
       "      <th>Host</th>\n",
       "    </tr>\n",
       "  </thead>\n",
       "  <tbody>\n",
       "    <tr>\n",
       "      <th>19</th>\n",
       "      <td>1960</td>\n",
       "      <td>Italy</td>\n",
       "      <td>78</td>\n",
       "      <td>88</td>\n",
       "      <td>Italy</td>\n",
       "      <td>NaN</td>\n",
       "      <td>ITA</td>\n",
       "      <td>5.019970e+07</td>\n",
       "      <td>NaN</td>\n",
       "      <td>1</td>\n",
       "    </tr>\n",
       "    <tr>\n",
       "      <th>64</th>\n",
       "      <td>1964</td>\n",
       "      <td>Japan</td>\n",
       "      <td>54</td>\n",
       "      <td>62</td>\n",
       "      <td>Japan</td>\n",
       "      <td>6.949813e+10</td>\n",
       "      <td>JPN</td>\n",
       "      <td>9.782600e+07</td>\n",
       "      <td>10.841973</td>\n",
       "      <td>1</td>\n",
       "    </tr>\n",
       "    <tr>\n",
       "      <th>142</th>\n",
       "      <td>1972</td>\n",
       "      <td>Germany</td>\n",
       "      <td>223</td>\n",
       "      <td>253</td>\n",
       "      <td>Germany</td>\n",
       "      <td>NaN</td>\n",
       "      <td>DEU</td>\n",
       "      <td>7.868845e+07</td>\n",
       "      <td>NaN</td>\n",
       "      <td>1</td>\n",
       "    </tr>\n",
       "    <tr>\n",
       "      <th>181</th>\n",
       "      <td>1976</td>\n",
       "      <td>Canada</td>\n",
       "      <td>19</td>\n",
       "      <td>23</td>\n",
       "      <td>Canada</td>\n",
       "      <td>1.738340e+11</td>\n",
       "      <td>CAN</td>\n",
       "      <td>2.351800e+07</td>\n",
       "      <td>11.240135</td>\n",
       "      <td>1</td>\n",
       "    </tr>\n",
       "    <tr>\n",
       "      <th>241</th>\n",
       "      <td>1980</td>\n",
       "      <td>Russia</td>\n",
       "      <td>385</td>\n",
       "      <td>442</td>\n",
       "      <td>Russia</td>\n",
       "      <td>NaN</td>\n",
       "      <td>RUS</td>\n",
       "      <td>1.390100e+08</td>\n",
       "      <td>NaN</td>\n",
       "      <td>1</td>\n",
       "    </tr>\n",
       "    <tr>\n",
       "      <th>296</th>\n",
       "      <td>1984</td>\n",
       "      <td>USA</td>\n",
       "      <td>290</td>\n",
       "      <td>352</td>\n",
       "      <td>USA</td>\n",
       "      <td>3.638140e+12</td>\n",
       "      <td>USA</td>\n",
       "      <td>2.358250e+08</td>\n",
       "      <td>12.560879</td>\n",
       "      <td>1</td>\n",
       "    </tr>\n",
       "    <tr>\n",
       "      <th>341</th>\n",
       "      <td>1988</td>\n",
       "      <td>South Korea</td>\n",
       "      <td>72</td>\n",
       "      <td>77</td>\n",
       "      <td>South Korea</td>\n",
       "      <td>1.461330e+11</td>\n",
       "      <td>KOR</td>\n",
       "      <td>4.203125e+07</td>\n",
       "      <td>11.164748</td>\n",
       "      <td>1</td>\n",
       "    </tr>\n",
       "    <tr>\n",
       "      <th>407</th>\n",
       "      <td>1992</td>\n",
       "      <td>Spain</td>\n",
       "      <td>68</td>\n",
       "      <td>69</td>\n",
       "      <td>Spain</td>\n",
       "      <td>5.755990e+11</td>\n",
       "      <td>ESP</td>\n",
       "      <td>3.915768e+07</td>\n",
       "      <td>11.760120</td>\n",
       "      <td>1</td>\n",
       "    </tr>\n",
       "    <tr>\n",
       "      <th>490</th>\n",
       "      <td>1996</td>\n",
       "      <td>USA</td>\n",
       "      <td>227</td>\n",
       "      <td>259</td>\n",
       "      <td>USA</td>\n",
       "      <td>7.664060e+12</td>\n",
       "      <td>USA</td>\n",
       "      <td>2.693940e+08</td>\n",
       "      <td>12.884459</td>\n",
       "      <td>1</td>\n",
       "    </tr>\n",
       "    <tr>\n",
       "      <th>498</th>\n",
       "      <td>2000</td>\n",
       "      <td>Australia</td>\n",
       "      <td>161</td>\n",
       "      <td>183</td>\n",
       "      <td>Australia</td>\n",
       "      <td>3.891470e+11</td>\n",
       "      <td>AUS</td>\n",
       "      <td>1.915300e+07</td>\n",
       "      <td>11.590114</td>\n",
       "      <td>1</td>\n",
       "    </tr>\n",
       "    <tr>\n",
       "      <th>604</th>\n",
       "      <td>2004</td>\n",
       "      <td>Greece</td>\n",
       "      <td>31</td>\n",
       "      <td>31</td>\n",
       "      <td>Greece</td>\n",
       "      <td>NaN</td>\n",
       "      <td>GRC</td>\n",
       "      <td>1.095514e+07</td>\n",
       "      <td>NaN</td>\n",
       "      <td>1</td>\n",
       "    </tr>\n",
       "    <tr>\n",
       "      <th>665</th>\n",
       "      <td>2008</td>\n",
       "      <td>China</td>\n",
       "      <td>157</td>\n",
       "      <td>184</td>\n",
       "      <td>China</td>\n",
       "      <td>3.552180e+12</td>\n",
       "      <td>CHN</td>\n",
       "      <td>1.324655e+09</td>\n",
       "      <td>12.550495</td>\n",
       "      <td>1</td>\n",
       "    </tr>\n",
       "    <tr>\n",
       "      <th>666</th>\n",
       "      <td>2008</td>\n",
       "      <td>China</td>\n",
       "      <td>157</td>\n",
       "      <td>184</td>\n",
       "      <td>China</td>\n",
       "      <td>3.552180e+12</td>\n",
       "      <td>HKG</td>\n",
       "      <td>6.957800e+06</td>\n",
       "      <td>12.550495</td>\n",
       "      <td>1</td>\n",
       "    </tr>\n",
       "    <tr>\n",
       "      <th>832</th>\n",
       "      <td>2016</td>\n",
       "      <td>Brazil</td>\n",
       "      <td>48</td>\n",
       "      <td>50</td>\n",
       "      <td>Brazil</td>\n",
       "      <td>1.803650e+12</td>\n",
       "      <td>BRA</td>\n",
       "      <td>2.076529e+08</td>\n",
       "      <td>12.256152</td>\n",
       "      <td>1</td>\n",
       "    </tr>\n",
       "  </tbody>\n",
       "</table>\n",
       "</div>"
      ],
      "text/plain": [
       "     Year         Team  Total_Athletes  total_medal Country_host  \\\n",
       "19   1960        Italy              78           88        Italy   \n",
       "64   1964        Japan              54           62        Japan   \n",
       "142  1972      Germany             223          253      Germany   \n",
       "181  1976       Canada              19           23       Canada   \n",
       "241  1980       Russia             385          442       Russia   \n",
       "296  1984          USA             290          352          USA   \n",
       "341  1988  South Korea              72           77  South Korea   \n",
       "407  1992        Spain              68           69        Spain   \n",
       "490  1996          USA             227          259          USA   \n",
       "498  2000    Australia             161          183    Australia   \n",
       "604  2004       Greece              31           31       Greece   \n",
       "665  2008        China             157          184        China   \n",
       "666  2008        China             157          184        China   \n",
       "832  2016       Brazil              48           50       Brazil   \n",
       "\n",
       "              GDP  NOC    Population    GDP_log  Host  \n",
       "19            NaN  ITA  5.019970e+07        NaN     1  \n",
       "64   6.949813e+10  JPN  9.782600e+07  10.841973     1  \n",
       "142           NaN  DEU  7.868845e+07        NaN     1  \n",
       "181  1.738340e+11  CAN  2.351800e+07  11.240135     1  \n",
       "241           NaN  RUS  1.390100e+08        NaN     1  \n",
       "296  3.638140e+12  USA  2.358250e+08  12.560879     1  \n",
       "341  1.461330e+11  KOR  4.203125e+07  11.164748     1  \n",
       "407  5.755990e+11  ESP  3.915768e+07  11.760120     1  \n",
       "490  7.664060e+12  USA  2.693940e+08  12.884459     1  \n",
       "498  3.891470e+11  AUS  1.915300e+07  11.590114     1  \n",
       "604           NaN  GRC  1.095514e+07        NaN     1  \n",
       "665  3.552180e+12  CHN  1.324655e+09  12.550495     1  \n",
       "666  3.552180e+12  HKG  6.957800e+06  12.550495     1  \n",
       "832  1.803650e+12  BRA  2.076529e+08  12.256152     1  "
      ]
     },
     "execution_count": 13,
     "metadata": {},
     "output_type": "execute_result"
    }
   ],
   "source": [
    "# 올림픽 계최국 확인\n",
    "olympics_df[olympics_df[['Year','Team','Host']]['Host'] ==1]"
   ]
  },
  {
   "cell_type": "code",
   "execution_count": 14,
   "metadata": {},
   "outputs": [
    {
     "name": "stdout",
     "output_type": "stream",
     "text": [
      "                 Host  total_medal\n",
      "Host         1.000000     0.341153\n",
      "total_medal  0.341153     1.000000\n"
     ]
    }
   ],
   "source": [
    "print(olympics_df[['Host','total_medal']].corr())\n"
   ]
  },
  {
   "cell_type": "code",
   "execution_count": 15,
   "metadata": {},
   "outputs": [
    {
     "data": {
      "image/png": "[encoded data removed]",
      "text/plain": [
       "<Figure size 640x480 with 1 Axes>"
      ]
     },
     "metadata": {},
     "output_type": "display_data"
    },
    {
     "data": {
      "image/png": "[encoded data removed]",
      "text/plain": [
       "<Figure size 640x480 with 1 Axes>"
      ]
     },
     "metadata": {},
     "output_type": "display_data"
    }
   ],
   "source": [
    "# Boxplot\n",
    "sns.boxplot(x=olympics_df['Host'],y=olympics_df['GDP'])\n",
    "plt.title('GDP & 올림픽개최국')\n",
    "plt.show()\n",
    "\n",
    "\n",
    "# 분포밀도\n",
    "sns.violinplot(x = olympics_df['Host'], y = olympics_df['GDP'])\n",
    "plt.title('GDP & 올림픽 개최국 분포밀도')\n",
    "plt.show()"
   ]
  },
  {
   "cell_type": "code",
   "execution_count": 16,
   "metadata": {},
   "outputs": [
    {
     "name": "stdout",
     "output_type": "stream",
     "text": [
      "등분산성 : 0.03987736524626324\n"
     ]
    },
    {
     "name": "stderr",
     "output_type": "stream",
     "text": [
      "C:\\Users\\KDT17\\AppData\\Local\\Temp\\ipykernel_15456\\326855985.py:7: SettingWithCopyWarning: \n",
      "A value is trying to be set on a copy of a slice from a DataFrame\n",
      "\n",
      "See the caveats in the documentation: https://pandas.pydata.org/pandas-docs/stable/user_guide/indexing.html#returning-a-view-versus-a-copy\n",
      "  gdp_host.fillna(gdp_host.median(),inplace=True)\n",
      "C:\\Users\\KDT17\\AppData\\Local\\Temp\\ipykernel_15456\\326855985.py:8: SettingWithCopyWarning: \n",
      "A value is trying to be set on a copy of a slice from a DataFrame\n",
      "\n",
      "See the caveats in the documentation: https://pandas.pydata.org/pandas-docs/stable/user_guide/indexing.html#returning-a-view-versus-a-copy\n",
      "  gdp_no_host.fillna(gdp_host.median(),inplace=True)\n"
     ]
    }
   ],
   "source": [
    "# GDP 데이터를 개최국 여부에 따라 그룹화\n",
    "from scipy.stats import levene\n",
    "\n",
    "gdp_host = olympics_df[olympics_df['Host']==1]['GDP_log']\n",
    "gdp_no_host = olympics_df[olympics_df['Host']==0]['GDP_log']\n",
    "\n",
    "gdp_host.fillna(gdp_host.median(),inplace=True)\n",
    "gdp_no_host.fillna(gdp_host.median(),inplace=True)\n",
    "stat, p = levene(gdp_host,gdp_no_host)\n",
    "print(f'등분산성 : {p}')"
   ]
  },
  {
   "cell_type": "code",
   "execution_count": 17,
   "metadata": {},
   "outputs": [
    {
     "data": {
      "text/html": [
       "<div>\n",
       "<style scoped>\n",
       "    .dataframe tbody tr th:only-of-type {\n",
       "        vertical-align: middle;\n",
       "    }\n",
       "\n",
       "    .dataframe tbody tr th {\n",
       "        vertical-align: top;\n",
       "    }\n",
       "\n",
       "    .dataframe thead th {\n",
       "        text-align: right;\n",
       "    }\n",
       "</style>\n",
       "<table border=\"1\" class=\"dataframe\">\n",
       "  <thead>\n",
       "    <tr style=\"text-align: right;\">\n",
       "      <th></th>\n",
       "      <th>GDP_log</th>\n",
       "      <th>Host</th>\n",
       "    </tr>\n",
       "  </thead>\n",
       "  <tbody>\n",
       "    <tr>\n",
       "      <th>GDP_log</th>\n",
       "      <td>1.000000</td>\n",
       "      <td>0.147151</td>\n",
       "    </tr>\n",
       "    <tr>\n",
       "      <th>Host</th>\n",
       "      <td>0.147151</td>\n",
       "      <td>1.000000</td>\n",
       "    </tr>\n",
       "  </tbody>\n",
       "</table>\n",
       "</div>"
      ],
      "text/plain": [
       "          GDP_log      Host\n",
       "GDP_log  1.000000  0.147151\n",
       "Host     0.147151  1.000000"
      ]
     },
     "execution_count": 17,
     "metadata": {},
     "output_type": "execute_result"
    }
   ],
   "source": [
    "olympics_df[['GDP_log','Host']].corr()"
   ]
  }
 ],
 "metadata": {
  "kernelspec": {
   "display_name": "bigdata",
   "language": "python",
   "name": "python3"
  },
  "language_info": {
   "codemirror_mode": {
    "name": "ipython",
    "version": 3
   },
   "file_extension": ".py",
   "mimetype": "text/x-python",
   "name": "python",
   "nbconvert_exporter": "python",
   "pygments_lexer": "ipython3",
   "version": "3.12.8"
  }
 },
 "nbformat": 4,
 "nbformat_minor": 2
}
